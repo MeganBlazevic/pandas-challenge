{
 "cells": [
  {
   "cell_type": "code",
   "execution_count": 51,
   "metadata": {},
   "outputs": [],
   "source": [
    "# Dependencies\n",
    "import pandas as pd"
   ]
  },
  {
   "cell_type": "code",
   "execution_count": 52,
   "metadata": {},
   "outputs": [],
   "source": [
    "# Save csv and set to path\n",
    "loadingSchoolData = \"PyCitySchools/Resources//schools_complete.csv\"\n",
    "loadingStudentData = \"PyCitySchools/Resources/students_complete.csv\""
   ]
  },
  {
   "cell_type": "code",
   "execution_count": 53,
   "metadata": {},
   "outputs": [],
   "source": [
    "#Read csv file and save as DataFrame\n",
    "schoolData = pd.read_csv(loadingSchoolData)\n",
    "studentData = pd.read_csv(loadingStudentData)"
   ]
  },
  {
   "cell_type": "code",
   "execution_count": 54,
   "metadata": {},
   "outputs": [
    {
     "data": {
      "text/plain": [
       "15"
      ]
     },
     "execution_count": 54,
     "metadata": {},
     "output_type": "execute_result"
    }
   ],
   "source": [
    "# Calculate total number of unique schools\n",
    "schoolCountUnique = fullData[\"school_name\"].unique()\n",
    "schoolCount = len(schoolCountUnique)\n",
    "schoolCount"
   ]
  },
  {
   "cell_type": "code",
   "execution_count": 56,
   "metadata": {},
   "outputs": [
    {
     "data": {
      "text/plain": [
       "39170"
      ]
     },
     "execution_count": 56,
     "metadata": {},
     "output_type": "execute_result"
    }
   ],
   "source": [
    "# calculcate the total number of studnets\n",
    "studentCount = fullData[\"Student ID\"].count()\n",
    "studentCount"
   ]
  },
  {
   "cell_type": "code",
   "execution_count": 57,
   "metadata": {},
   "outputs": [
    {
     "data": {
      "text/plain": [
       "24649428"
      ]
     },
     "execution_count": 57,
     "metadata": {},
     "output_type": "execute_result"
    }
   ],
   "source": [
    "# calculate total budget\n",
    "totalBudget = schoolData[\"budget\"].sum()\n",
    "totalBudget"
   ]
  },
  {
   "cell_type": "code",
   "execution_count": 58,
   "metadata": {},
   "outputs": [
    {
     "data": {
      "text/plain": [
       "78.98537145774827"
      ]
     },
     "execution_count": 58,
     "metadata": {},
     "output_type": "execute_result"
    }
   ],
   "source": [
    "# Calcuclate average math score\n",
    "averageMathScore = fullData[\"math_score\"].mean()\n",
    "averageMathScore"
   ]
  },
  {
   "cell_type": "code",
   "execution_count": 59,
   "metadata": {},
   "outputs": [
    {
     "data": {
      "text/plain": [
       "81.87784018381414"
      ]
     },
     "execution_count": 59,
     "metadata": {},
     "output_type": "execute_result"
    }
   ],
   "source": [
    "# Calculcate average reading score\n",
    "averageReadingScore = fullData[\"reading_score\"].mean()\n",
    "averageReadingScore"
   ]
  },
  {
   "cell_type": "code",
   "execution_count": 60,
   "metadata": {},
   "outputs": [
    {
     "data": {
      "text/plain": [
       "74.9808526933878"
      ]
     },
     "execution_count": 60,
     "metadata": {},
     "output_type": "execute_result"
    }
   ],
   "source": [
    "# Calculate % passing in math (70 and greater)\n",
    "passingMathCount = fullData[(fullData[\"math_score\"] >=70)].count()[\"student_name\"]\n",
    "\n",
    "passingMathPercent = passingMathCount / float(studentCount) * 100\n",
    "passingMathPercent"
   ]
  },
  {
   "cell_type": "code",
   "execution_count": 61,
   "metadata": {},
   "outputs": [
    {
     "data": {
      "text/plain": [
       "85.80546336482001"
      ]
     },
     "execution_count": 61,
     "metadata": {},
     "output_type": "execute_result"
    }
   ],
   "source": [
    "# Calculate % passing in reading (70 and greater)\n",
    "passingReadingCount = fullData[(fullData[\"reading_score\"] >=70)].count()[\"student_name\"]\n",
    "\n",
    "passingReadingPercent = passingReadingCount / float(studentCount) * 100\n",
    "passingReadingPercent"
   ]
  },
  {
   "cell_type": "code",
   "execution_count": 62,
   "metadata": {},
   "outputs": [
    {
     "data": {
      "text/plain": [
       "65.17232575950983"
      ]
     },
     "execution_count": 62,
     "metadata": {},
     "output_type": "execute_result"
    }
   ],
   "source": [
    "# Calculate % overall passing grades (both math and reading)\n",
    "overallPassingGradeCount = fullData[(fullData[\"math_score\"] >=70) & (fullData[\"reading_score\"] >=70)].count()[\"student_name\"]\n",
    "\n",
    "overallPassingGradePercent = overallPassingGradeCount / float(studentCount) *100\n",
    "overallPassingGradePercent"
   ]
  },
  {
   "cell_type": "code",
   "execution_count": 67,
   "metadata": {},
   "outputs": [
    {
     "data": {
      "text/html": [
       "<div>\n",
       "<style scoped>\n",
       "    .dataframe tbody tr th:only-of-type {\n",
       "        vertical-align: middle;\n",
       "    }\n",
       "\n",
       "    .dataframe tbody tr th {\n",
       "        vertical-align: top;\n",
       "    }\n",
       "\n",
       "    .dataframe thead th {\n",
       "        text-align: right;\n",
       "    }\n",
       "</style>\n",
       "<table border=\"1\" class=\"dataframe\">\n",
       "  <thead>\n",
       "    <tr style=\"text-align: right;\">\n",
       "      <th></th>\n",
       "      <th>Total Schools</th>\n",
       "      <th>Total Students</th>\n",
       "      <th>Total Budget</th>\n",
       "      <th>Average Math Score</th>\n",
       "      <th>Average Reading Score</th>\n",
       "      <th>% Passing in Math</th>\n",
       "      <th>% Passing in Reading</th>\n",
       "      <th>% Overall Passing</th>\n",
       "    </tr>\n",
       "  </thead>\n",
       "  <tbody>\n",
       "    <tr>\n",
       "      <th>0</th>\n",
       "      <td>15</td>\n",
       "      <td>39,170</td>\n",
       "      <td>$24649428.00</td>\n",
       "      <td>78.99</td>\n",
       "      <td>81.88</td>\n",
       "      <td>74.98%</td>\n",
       "      <td>85.81%</td>\n",
       "      <td>65.17%</td>\n",
       "    </tr>\n",
       "  </tbody>\n",
       "</table>\n",
       "</div>"
      ],
      "text/plain": [
       "   Total Schools Total Students  Total Budget Average Math Score  \\\n",
       "0             15         39,170  $24649428.00              78.99   \n",
       "\n",
       "  Average Reading Score % Passing in Math % Passing in Reading  \\\n",
       "0                 81.88            74.98%               85.81%   \n",
       "\n",
       "  % Overall Passing  \n",
       "0            65.17%  "
      ]
     },
     "execution_count": 67,
     "metadata": {},
     "output_type": "execute_result"
    }
   ],
   "source": [
    "# Create and display a dataframe to hold of the above district summary metrics\n",
    "districtSummary = pd.DataFrame({\"Total Schools\": schoolCount,\n",
    "    \"Total Students\": f\"{studentCount:,}\", \n",
    "    \"Total Budget\": f\"${totalBudget:.2f}\",\n",
    "    \"Average Math Score\": f\"{averageMathScore:.2f}\",\n",
    "    \"Average Reading Score\": f\"{averageReadingScore:.2f}\", \n",
    "    \"% Passing in Math\": f\"{passingMathPercent:.2f}\" \"%\", \n",
    "    \"% Passing in Reading\": f\"{passingReadingPercent:.2f}\" \"%\",\n",
    "    \"% Overall Passing\": f\"{overallPassingGradePercent:.2f}\" \"%\"}, index=[0])\n",
    "\n",
    "districtSummary\n",
    "# Create a high-level snapshot of the district's key metrics in a DataFrame\n",
    "#district_summary = \n",
    "\n",
    "# Formatting\n",
    "#district_summary[\"Total Students\"] = district_summary[\"Total Students\"].map(\"{:,}\".format)\n",
    "#district_summary[\"Total Budget\"] = district_summary[\"Total Budget\"].map(\"${:,.2f}\".format)\n"
   ]
  },
  {
   "cell_type": "code",
   "execution_count": null,
   "metadata": {},
   "outputs": [],
   "source": []
  }
 ],
 "metadata": {
  "kernelspec": {
   "display_name": "Python 3.6.10 ('PythonDataClass')",
   "language": "python",
   "name": "python3"
  },
  "language_info": {
   "codemirror_mode": {
    "name": "ipython",
    "version": 3
   },
   "file_extension": ".py",
   "mimetype": "text/x-python",
   "name": "python",
   "nbconvert_exporter": "python",
   "pygments_lexer": "ipython3",
   "version": "3.6.10"
  },
  "vscode": {
   "interpreter": {
    "hash": "8370a92c5f03eb8bee02b58548813cebb401e837aa599d06f749fd0b7caadd70"
   }
  }
 },
 "nbformat": 4,
 "nbformat_minor": 2
}
